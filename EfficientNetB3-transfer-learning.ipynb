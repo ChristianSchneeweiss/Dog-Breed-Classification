{
 "cells": [
  {
   "cell_type": "code",
   "execution_count": 10,
   "metadata": {
    "_cell_guid": "b1076dfc-b9ad-4769-8c92-a6c4dae69d19",
    "_uuid": "8f2839f25d086af736a60e9eeb907d3b93b6e0e5"
   },
   "outputs": [],
   "source": [
    "import numpy as np # linear algebra\n",
    "import pandas as pd # data processing, CSV file I/O (e.g. pd.read_csv)\n",
    "import os\n",
    "\n",
    "from sklearn.model_selection import train_test_split\n",
    "from sklearn.preprocessing import LabelBinarizer\n",
    "\n",
    "from tensorflow.keras.layers import Dense, Conv2D, MaxPooling2D, Flatten, Dropout, GlobalAveragePooling2D, GlobalMaxPooling2D\n",
    "from tensorflow.keras.models import Model, Sequential, load_model\n",
    "from tensorflow.keras.applications import VGG16\n",
    "from tensorflow.keras.callbacks import EarlyStopping, ReduceLROnPlateau\n",
    "from tensorflow.keras.preprocessing.image import ImageDataGenerator\n",
    "\n",
    "from efficientnet import EfficientNetB3, center_crop_and_resize, preprocess_input\n",
    "\n",
    "from keras import models\n",
    "from keras import layers\n",
    "from keras import callbacks\n",
    "\n",
    "import time\n",
    "\n",
    "import matplotlib.pyplot as plt\n",
    "\n",
    "import cv2"
   ]
  },
  {
   "cell_type": "code",
   "execution_count": 11,
   "metadata": {},
   "outputs": [],
   "source": [
    "BASEPATH = \"stanford-dogs-dataset/\"\n",
    "BATCH_SIZE = 32\n",
    "EPOCHS = 100"
   ]
  },
  {
   "cell_type": "code",
   "execution_count": 8,
   "metadata": {},
   "outputs": [],
   "source": [
    "early_stopping = EarlyStopping(patience=10, verbose=1,restore_best_weights=True, monitor=\"val_acc\")\n",
    "reduce_lr = callbacks.ReduceLROnPlateau(factor=0.1, patience=3,verbose=1, monitor=\"val_acc\")"
   ]
  },
  {
   "cell_type": "code",
   "execution_count": 13,
   "metadata": {},
   "outputs": [],
   "source": [
    "def build_model(conv_base, trainable=False, dense_layers=2):\n",
    "    model = models.Sequential()\n",
    "    model.add(conv_base)\n",
    "    model.add(layers.AveragePooling2D((5,5)))\n",
    "    model.add(layers.Flatten())\n",
    "    for _ in range(dense_layers):\n",
    "        model.add(layers.Dense(2048))\n",
    "        model.add(layers.BatchNormalization())\n",
    "        model.add(layers.Dropout(0.4))\n",
    "    model.add(layers.Dense(512))\n",
    "    model.add(layers.BatchNormalization())\n",
    "    model.add(layers.Dropout(0.2))\n",
    "    model.add(layers.Dense(120,activation='softmax'))\n",
    "    \n",
    "    if not trainable:\n",
    "        for layer in conv_base.layers:\n",
    "            layer.trainable = False\n",
    "\n",
    "    model.compile(\"adam\",loss=\"categorical_crossentropy\",metrics=[\"accuracy\"])\n",
    "\n",
    "    print(model.summary())\n",
    "    \n",
    "    return model"
   ]
  },
  {
   "cell_type": "code",
   "execution_count": 15,
   "metadata": {},
   "outputs": [
    {
     "name": "stdout",
     "output_type": "stream",
     "text": [
      "_________________________________________________________________\n",
      "Layer (type)                 Output Shape              Param #   \n",
      "=================================================================\n",
      "efficientnet-b3 (Model)      (None, 7, 7, 1536)        10783528  \n",
      "_________________________________________________________________\n",
      "average_pooling2d_3 (Average (None, 1, 1, 1536)        0         \n",
      "_________________________________________________________________\n",
      "flatten_3 (Flatten)          (None, 1536)              0         \n",
      "_________________________________________________________________\n",
      "dense_9 (Dense)              (None, 2048)              3147776   \n",
      "_________________________________________________________________\n",
      "batch_normalization_241 (Bat (None, 2048)              8192      \n",
      "_________________________________________________________________\n",
      "dropout_7 (Dropout)          (None, 2048)              0         \n",
      "_________________________________________________________________\n",
      "dense_10 (Dense)             (None, 2048)              4196352   \n",
      "_________________________________________________________________\n",
      "batch_normalization_242 (Bat (None, 2048)              8192      \n",
      "_________________________________________________________________\n",
      "dropout_8 (Dropout)          (None, 2048)              0         \n",
      "_________________________________________________________________\n",
      "dense_11 (Dense)             (None, 2048)              4196352   \n",
      "_________________________________________________________________\n",
      "batch_normalization_243 (Bat (None, 2048)              8192      \n",
      "_________________________________________________________________\n",
      "dropout_9 (Dropout)          (None, 2048)              0         \n",
      "_________________________________________________________________\n",
      "dense_12 (Dense)             (None, 2048)              4196352   \n",
      "_________________________________________________________________\n",
      "batch_normalization_244 (Bat (None, 2048)              8192      \n",
      "_________________________________________________________________\n",
      "dropout_10 (Dropout)         (None, 2048)              0         \n",
      "_________________________________________________________________\n",
      "dense_13 (Dense)             (None, 2048)              4196352   \n",
      "_________________________________________________________________\n",
      "batch_normalization_245 (Bat (None, 2048)              8192      \n",
      "_________________________________________________________________\n",
      "dropout_11 (Dropout)         (None, 2048)              0         \n",
      "_________________________________________________________________\n",
      "dense_14 (Dense)             (None, 512)               1049088   \n",
      "_________________________________________________________________\n",
      "batch_normalization_246 (Bat (None, 512)               2048      \n",
      "_________________________________________________________________\n",
      "dropout_12 (Dropout)         (None, 512)               0         \n",
      "_________________________________________________________________\n",
      "dense_15 (Dense)             (None, 120)               61560     \n",
      "=================================================================\n",
      "Total params: 31,870,368\n",
      "Trainable params: 21,065,336\n",
      "Non-trainable params: 10,805,032\n",
      "_________________________________________________________________\n",
      "None\n"
     ]
    }
   ],
   "source": [
    "conv_base=EfficientNetB3(weights='imagenet',include_top=False, input_shape=(224,224,3))\n",
    "\n",
    "model = build_model(conv_base,dense_layers=5)"
   ]
  },
  {
   "cell_type": "markdown",
   "metadata": {},
   "source": [
    "# Using the ImageDataGenerator"
   ]
  },
  {
   "cell_type": "code",
   "execution_count": 23,
   "metadata": {},
   "outputs": [],
   "source": [
    "train_datagen = ImageDataGenerator(rescale=1./255.0,\n",
    "                                   shear_range=0.2,\n",
    "                                   rotation_range=20.,\n",
    "                                   width_shift_range=0.1,\n",
    "                                   height_shift_range=0.1,\n",
    "                                   zoom_range=[0.9, 1.25],\n",
    "                                   brightness_range=[0.5, 1.5],\n",
    "                                   horizontal_flip=True)\n",
    "\n",
    "test_datagen = ImageDataGenerator(rescale=1./255.0)\n",
    "\n",
    "validation_datagen = ImageDataGenerator(rescale=1./255.0)"
   ]
  },
  {
   "cell_type": "code",
   "execution_count": 12,
   "metadata": {},
   "outputs": [
    {
     "ename": "NameError",
     "evalue": "name 'train_datagen' is not defined",
     "output_type": "error",
     "traceback": [
      "\u001b[0;31m---------------------------------------------------------------------------\u001b[0m",
      "\u001b[0;31mNameError\u001b[0m                                 Traceback (most recent call last)",
      "\u001b[0;32m<ipython-input-12-48ccc6d6eb6f>\u001b[0m in \u001b[0;36m<module>\u001b[0;34m\u001b[0m\n\u001b[0;32m----> 1\u001b[0;31m train_generator = train_datagen.flow_from_directory(\n\u001b[0m\u001b[1;32m      2\u001b[0m     \u001b[0mBASEPATH\u001b[0m \u001b[0;34m+\u001b[0m \u001b[0;34m\"train\"\u001b[0m\u001b[0;34m,\u001b[0m\u001b[0;34m\u001b[0m\u001b[0;34m\u001b[0m\u001b[0m\n\u001b[1;32m      3\u001b[0m     \u001b[0mtarget_size\u001b[0m\u001b[0;34m=\u001b[0m\u001b[0;34m(\u001b[0m\u001b[0;36m224\u001b[0m\u001b[0;34m,\u001b[0m \u001b[0;36m224\u001b[0m\u001b[0;34m)\u001b[0m\u001b[0;34m,\u001b[0m\u001b[0;34m\u001b[0m\u001b[0;34m\u001b[0m\u001b[0m\n\u001b[1;32m      4\u001b[0m     \u001b[0mbatch_size\u001b[0m\u001b[0;34m=\u001b[0m\u001b[0mBATCH_SIZE\u001b[0m\u001b[0;34m,\u001b[0m\u001b[0;34m\u001b[0m\u001b[0;34m\u001b[0m\u001b[0m\n\u001b[1;32m      5\u001b[0m     class_mode='categorical')\n",
      "\u001b[0;31mNameError\u001b[0m: name 'train_datagen' is not defined"
     ]
    }
   ],
   "source": [
    "train_generator = train_datagen.flow_from_directory(\n",
    "    BASEPATH + \"train\",\n",
    "    target_size=(224, 224),\n",
    "    batch_size=BATCH_SIZE,\n",
    "    class_mode='categorical')\n",
    "\n",
    "test_generator = test_datagen.flow_from_directory(\n",
    "    BASEPATH + \"test\",\n",
    "    target_size=(224, 224),\n",
    "    batch_size=BATCH_SIZE,\n",
    "    class_mode='categorical')\n",
    "\n",
    "validation_generator = validation_datagen.flow_from_directory(\n",
    "    BASEPATH + \"val\",\n",
    "    target_size=(224, 224),\n",
    "    batch_size=BATCH_SIZE,\n",
    "    class_mode='categorical')"
   ]
  },
  {
   "cell_type": "code",
   "execution_count": 29,
   "metadata": {},
   "outputs": [
    {
     "name": "stdout",
     "output_type": "stream",
     "text": [
      "Epoch 1/100\n",
      "481/481 [==============================] - 419s 872ms/step - loss: 2.8884 - acc: 0.3184 - val_loss: 1.7625 - val_acc: 0.5211\n",
      "Epoch 2/100\n",
      "481/481 [==============================] - 354s 735ms/step - loss: 1.9695 - acc: 0.4841 - val_loss: 1.7767 - val_acc: 0.5416\n",
      "Epoch 3/100\n",
      "481/481 [==============================] - 320s 665ms/step - loss: 1.7027 - acc: 0.5326 - val_loss: 1.5228 - val_acc: 0.5850\n",
      "Epoch 4/100\n",
      "481/481 [==============================] - 411s 854ms/step - loss: 1.6040 - acc: 0.5600 - val_loss: 1.5074 - val_acc: 0.5924\n",
      "Epoch 5/100\n",
      "481/481 [==============================] - 331s 689ms/step - loss: 1.5330 - acc: 0.5768 - val_loss: 1.4964 - val_acc: 0.5915\n",
      "Epoch 6/100\n",
      "481/481 [==============================] - 323s 672ms/step - loss: 1.4380 - acc: 0.5981 - val_loss: 1.5954 - val_acc: 0.5823\n",
      "Epoch 7/100\n",
      "481/481 [==============================] - 330s 686ms/step - loss: 1.3753 - acc: 0.6229 - val_loss: 1.5610 - val_acc: 0.6294\n",
      "Epoch 8/100\n",
      "481/481 [==============================] - 357s 741ms/step - loss: 1.2670 - acc: 0.6431 - val_loss: 1.6336 - val_acc: 0.6312\n",
      "Epoch 9/100\n",
      "481/481 [==============================] - 401s 834ms/step - loss: 1.2400 - acc: 0.6490 - val_loss: 1.5061 - val_acc: 0.6146\n",
      "Epoch 10/100\n",
      "481/481 [==============================] - 340s 708ms/step - loss: 1.2301 - acc: 0.6555 - val_loss: 1.5632 - val_acc: 0.6165\n",
      "Epoch 11/100\n",
      "481/481 [==============================] - 332s 691ms/step - loss: 1.1417 - acc: 0.6748 - val_loss: 1.5920 - val_acc: 0.6423\n",
      "Epoch 12/100\n",
      "481/481 [==============================] - 343s 712ms/step - loss: 1.1237 - acc: 0.6794 - val_loss: 1.5603 - val_acc: 0.6303\n",
      "Epoch 13/100\n",
      "481/481 [==============================] - 325s 676ms/step - loss: 1.4519 - acc: 0.6257 - val_loss: 1.6048 - val_acc: 0.6211\n",
      "Epoch 14/100\n",
      "481/481 [==============================] - 360s 748ms/step - loss: 1.0065 - acc: 0.7084 - val_loss: 1.5978 - val_acc: 0.6331\n",
      "\n",
      "Epoch 00014: ReduceLROnPlateau reducing learning rate to 0.00010000000474974513.\n",
      "Epoch 15/100\n",
      "481/481 [==============================] - 322s 670ms/step - loss: 0.6374 - acc: 0.8048 - val_loss: 1.2448 - val_acc: 0.7181\n",
      "Epoch 16/100\n",
      "481/481 [==============================] - 323s 671ms/step - loss: 0.4823 - acc: 0.8439 - val_loss: 1.2400 - val_acc: 0.7043\n",
      "Epoch 17/100\n",
      "481/481 [==============================] - 321s 667ms/step - loss: 0.4325 - acc: 0.8586 - val_loss: 1.2777 - val_acc: 0.7246\n",
      "Epoch 18/100\n",
      "481/481 [==============================] - 319s 663ms/step - loss: 0.4027 - acc: 0.8677 - val_loss: 1.3141 - val_acc: 0.7144\n",
      "Epoch 19/100\n",
      "481/481 [==============================] - 349s 726ms/step - loss: 0.3578 - acc: 0.8822 - val_loss: 1.4185 - val_acc: 0.7043\n",
      "Epoch 20/100\n",
      "481/481 [==============================] - 325s 677ms/step - loss: 0.3153 - acc: 0.8961 - val_loss: 1.3535 - val_acc: 0.7107\n",
      "\n",
      "Epoch 00020: ReduceLROnPlateau reducing learning rate to 1.0000000474974514e-05.\n",
      "Epoch 21/100\n",
      "481/481 [==============================] - 382s 795ms/step - loss: 0.2944 - acc: 0.9018 - val_loss: 1.3341 - val_acc: 0.7292\n",
      "Epoch 22/100\n",
      "481/481 [==============================] - 377s 784ms/step - loss: 0.2892 - acc: 0.9026 - val_loss: 1.2910 - val_acc: 0.7209\n",
      "Epoch 23/100\n",
      "481/481 [==============================] - 367s 764ms/step - loss: 0.2630 - acc: 0.9109 - val_loss: 1.3006 - val_acc: 0.7329\n",
      "Epoch 24/100\n",
      "481/481 [==============================] - 330s 687ms/step - loss: 0.2810 - acc: 0.9030 - val_loss: 1.3084 - val_acc: 0.7218\n",
      "Epoch 25/100\n",
      "481/481 [==============================] - 329s 683ms/step - loss: 0.2726 - acc: 0.9083 - val_loss: 1.3932 - val_acc: 0.7227\n",
      "Epoch 26/100\n",
      "481/481 [==============================] - 323s 672ms/step - loss: 0.2670 - acc: 0.9127 - val_loss: 1.2538 - val_acc: 0.7227\n",
      "\n",
      "Epoch 00026: ReduceLROnPlateau reducing learning rate to 1.0000000656873453e-06.\n",
      "Epoch 27/100\n",
      "481/481 [==============================] - 359s 747ms/step - loss: 0.2642 - acc: 0.9116 - val_loss: 1.3827 - val_acc: 0.7237\n",
      "Epoch 28/100\n",
      "481/481 [==============================] - 428s 889ms/step - loss: 0.2531 - acc: 0.9156 - val_loss: 1.3193 - val_acc: 0.7274\n",
      "Epoch 29/100\n",
      "481/481 [==============================] - 483s 1s/step - loss: 0.2568 - acc: 0.9129 - val_loss: 1.3224 - val_acc: 0.7135\n",
      "\n",
      "Epoch 00029: ReduceLROnPlateau reducing learning rate to 1.0000001111620805e-07.\n",
      "Epoch 30/100\n",
      "481/481 [==============================] - 302s 628ms/step - loss: 0.2631 - acc: 0.9100 - val_loss: 1.3430 - val_acc: 0.7366\n",
      "Epoch 31/100\n",
      "481/481 [==============================] - 270s 562ms/step - loss: 0.2566 - acc: 0.9109 - val_loss: 1.2901 - val_acc: 0.7237\n",
      "Epoch 32/100\n",
      "481/481 [==============================] - 280s 582ms/step - loss: 0.2653 - acc: 0.9108 - val_loss: 1.3231 - val_acc: 0.7172\n",
      "Epoch 33/100\n",
      "481/481 [==============================] - 280s 582ms/step - loss: 0.2671 - acc: 0.9092 - val_loss: 1.3144 - val_acc: 0.7255\n",
      "\n",
      "Epoch 00033: ReduceLROnPlateau reducing learning rate to 1.000000082740371e-08.\n",
      "Epoch 34/100\n",
      "481/481 [==============================] - 269s 558ms/step - loss: 0.2521 - acc: 0.9126 - val_loss: 1.3579 - val_acc: 0.7227\n",
      "Epoch 35/100\n",
      "481/481 [==============================] - 265s 550ms/step - loss: 0.2654 - acc: 0.9095 - val_loss: 1.3153 - val_acc: 0.7227\n",
      "Epoch 36/100\n",
      "481/481 [==============================] - 281s 583ms/step - loss: 0.2554 - acc: 0.9124 - val_loss: 1.3414 - val_acc: 0.7197\n",
      "\n",
      "Epoch 00036: ReduceLROnPlateau reducing learning rate to 1.000000082740371e-09.\n",
      "Epoch 37/100\n",
      "481/481 [==============================] - 273s 568ms/step - loss: 0.2723 - acc: 0.9076 - val_loss: 1.2860 - val_acc: 0.7274\n",
      "Epoch 38/100\n",
      "481/481 [==============================] - 279s 581ms/step - loss: 0.2629 - acc: 0.9131 - val_loss: 1.3765 - val_acc: 0.7218\n",
      "Epoch 39/100\n",
      "481/481 [==============================] - 261s 543ms/step - loss: 0.2584 - acc: 0.9120 - val_loss: 1.3068 - val_acc: 0.7274\n",
      "\n",
      "Epoch 00039: ReduceLROnPlateau reducing learning rate to 1.000000082740371e-10.\n",
      "Epoch 40/100\n",
      "481/481 [==============================] - 291s 605ms/step - loss: 0.2448 - acc: 0.9144 - val_loss: 1.2968 - val_acc: 0.7126\n",
      "Restoring model weights from the end of the best epoch.\n",
      "Epoch 00040: early stopping\n"
     ]
    },
    {
     "data": {
      "text/plain": [
       "<keras.callbacks.History at 0x7fd1258f1470>"
      ]
     },
     "execution_count": 29,
     "metadata": {},
     "output_type": "execute_result"
    }
   ],
   "source": [
    "model.fit_generator(\n",
    "    train_generator,\n",
    "    steps_per_epoch = train_generator.samples // BATCH_SIZE,\n",
    "    validation_data = test_generator, \n",
    "    validation_steps = test_generator.samples // BATCH_SIZE,\n",
    "    epochs = EPOCHS, callbacks=[early_stopping, reduce_lr])"
   ]
  },
  {
   "cell_type": "markdown",
   "metadata": {},
   "source": [
    "## Evaluation"
   ]
  },
  {
   "cell_type": "code",
   "execution_count": 30,
   "metadata": {},
   "outputs": [],
   "source": [
    "loss, acc = model.evaluate_generator(validation_generator,verbose=0, steps=validation_generator.samples // batch_size)"
   ]
  },
  {
   "cell_type": "code",
   "execution_count": 31,
   "metadata": {},
   "outputs": [
    {
     "name": "stdout",
     "output_type": "stream",
     "text": [
      "1.2640717449620014 0.734005905511811\n"
     ]
    }
   ],
   "source": [
    "print(loss,acc)"
   ]
  },
  {
   "cell_type": "code",
   "execution_count": 32,
   "metadata": {},
   "outputs": [],
   "source": [
    "model.save(\"efficientnetb3-model-{:.2f}acc-{:.2f}loss-{:.0f}.hdf5\".format(acc, loss, time.time()))"
   ]
  }
 ],
 "metadata": {
  "kernelspec": {
   "display_name": "Python 3",
   "language": "python",
   "name": "python3"
  },
  "language_info": {
   "codemirror_mode": {
    "name": "ipython",
    "version": 3
   },
   "file_extension": ".py",
   "mimetype": "text/x-python",
   "name": "python",
   "nbconvert_exporter": "python",
   "pygments_lexer": "ipython3",
   "version": "3.7.3"
  }
 },
 "nbformat": 4,
 "nbformat_minor": 1
}
