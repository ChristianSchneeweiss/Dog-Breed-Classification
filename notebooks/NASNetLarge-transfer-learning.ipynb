{
 "cells": [
  {
   "cell_type": "code",
   "execution_count": 12,
   "metadata": {
    "_cell_guid": "b1076dfc-b9ad-4769-8c92-a6c4dae69d19",
    "_uuid": "8f2839f25d086af736a60e9eeb907d3b93b6e0e5"
   },
   "outputs": [],
   "source": [
    "import numpy as np # linear algebra\n",
    "import pandas as pd # data processing, CSV file I/O (e.g. pd.read_csv)\n",
    "import os\n",
    "\n",
    "from sklearn.model_selection import train_test_split\n",
    "from sklearn.preprocessing import LabelBinarizer\n",
    "\n",
    "from tensorflow.keras.layers import Dense, Conv2D, MaxPooling2D, Flatten, Dropout, GlobalAveragePooling2D, GlobalMaxPooling2D\n",
    "from tensorflow.keras.models import Model, Sequential, load_model\n",
    "from tensorflow.keras.applications import VGG16, MobileNetV2, InceptionV3, NASNetLarge\n",
    "from tensorflow.keras.callbacks import EarlyStopping, ReduceLROnPlateau\n",
    "from tensorflow.keras.preprocessing.image import ImageDataGenerator\n",
    "\n",
    "from efficientnet import EfficientNetB3, center_crop_and_resize, preprocess_input\n",
    "\n",
    "from keras import models\n",
    "from keras import layers\n",
    "from keras import callbacks\n",
    "\n",
    "import time\n",
    "\n",
    "import matplotlib.pyplot as plt\n",
    "\n",
    "import cv2\n",
    "\n",
    "import pickle"
   ]
  },
  {
   "cell_type": "code",
   "execution_count": 6,
   "metadata": {},
   "outputs": [],
   "source": [
    "BASEPATH = \"../stanford-dogs-dataset/\"\n",
    "BATCH_SIZE = 32\n",
    "EPOCHS = 100"
   ]
  },
  {
   "cell_type": "code",
   "execution_count": 3,
   "metadata": {},
   "outputs": [],
   "source": [
    "early_stopping = EarlyStopping(patience=20, verbose=1,restore_best_weights=True, monitor=\"val_acc\")\n",
    "reduce_lr = ReduceLROnPlateau(factor=0.1, patience=7,verbose=1, monitor=\"val_acc\")"
   ]
  },
  {
   "cell_type": "code",
   "execution_count": 4,
   "metadata": {},
   "outputs": [],
   "source": [
    "def createModelNASNetLarge(trainable=False, optimizer=\"adam\"):\n",
    "    base_model = NASNetLarge(weights='imagenet', include_top=False, input_shape=(331, 331, 3))\n",
    "\n",
    "    model = Sequential()\n",
    "    model.add(base_model)\n",
    "    model.add(GlobalAveragePooling2D())\n",
    "    model.add(Dense(512,activation=\"relu\"))\n",
    "    model.add(Dropout(0.5))\n",
    "    model.add(Dense(120, activation=\"softmax\"))\n",
    "    \n",
    "    if not trainable:\n",
    "        for layer in base_model.layers:\n",
    "            layer.trainable = False\n",
    "\n",
    "    model.compile(optimizer=optimizer, loss='categorical_crossentropy', metrics=['accuracy']) \n",
    "  \n",
    "    return model"
   ]
  },
  {
   "cell_type": "code",
   "execution_count": 5,
   "metadata": {},
   "outputs": [
    {
     "name": "stdout",
     "output_type": "stream",
     "text": [
      "WARNING:tensorflow:From /usr/local/lib/python3.5/dist-packages/tensorflow/python/ops/resource_variable_ops.py:435: colocate_with (from tensorflow.python.framework.ops) is deprecated and will be removed in a future version.\n",
      "Instructions for updating:\n",
      "Colocations handled automatically by placer.\n",
      "WARNING:tensorflow:From /usr/local/lib/python3.5/dist-packages/tensorflow/python/keras/layers/core.py:143: calling dropout (from tensorflow.python.ops.nn_ops) with keep_prob is deprecated and will be removed in a future version.\n",
      "Instructions for updating:\n",
      "Please use `rate` instead of `keep_prob`. Rate should be set to `rate = 1 - keep_prob`.\n"
     ]
    }
   ],
   "source": [
    "model = createModelNASNetLarge()"
   ]
  },
  {
   "cell_type": "markdown",
   "metadata": {},
   "source": [
    "# Using the ImageDataGenerator"
   ]
  },
  {
   "cell_type": "code",
   "execution_count": 4,
   "metadata": {},
   "outputs": [],
   "source": [
    "train_datagen = ImageDataGenerator(rescale=1./255.0,\n",
    "                                   shear_range=0.1,\n",
    "                                   rotation_range=10.,\n",
    "                                   width_shift_range=0.1,\n",
    "                                   height_shift_range=0.1,\n",
    "                                   zoom_range=[0.9, 1.1],\n",
    "                                   brightness_range=[0.8, 1.2],\n",
    "                                   horizontal_flip=True)\n",
    "\n",
    "test_datagen = ImageDataGenerator(rescale=1./255.0)\n",
    "\n",
    "validation_datagen = ImageDataGenerator(rescale=1./255.0)"
   ]
  },
  {
   "cell_type": "code",
   "execution_count": 7,
   "metadata": {},
   "outputs": [
    {
     "name": "stdout",
     "output_type": "stream",
     "text": [
      "Found 15394 images belonging to 120 classes.\n",
      "Found 1114 images belonging to 120 classes.\n",
      "Found 4072 images belonging to 120 classes.\n"
     ]
    }
   ],
   "source": [
    "train_generator = train_datagen.flow_from_directory(\n",
    "    BASEPATH + \"train\",\n",
    "    target_size=(331, 331),\n",
    "    batch_size=BATCH_SIZE,\n",
    "    class_mode='categorical')\n",
    "\n",
    "test_generator = test_datagen.flow_from_directory(\n",
    "    BASEPATH + \"test\",\n",
    "    target_size=(331, 331),\n",
    "    batch_size=BATCH_SIZE,\n",
    "    class_mode='categorical')\n",
    "\n",
    "validation_generator = validation_datagen.flow_from_directory(\n",
    "    BASEPATH + \"val\",\n",
    "    target_size=(331, 331),\n",
    "    batch_size=BATCH_SIZE,\n",
    "    class_mode='categorical')"
   ]
  },
  {
   "cell_type": "code",
   "execution_count": 11,
   "metadata": {},
   "outputs": [
    {
     "name": "stdout",
     "output_type": "stream",
     "text": [
      "Epoch 1/100\n",
      "128/128 [==============================] - 116s 905ms/step - loss: 0.2641 - acc: 0.9280\n",
      "482/482 [==============================] - 562s 1s/step - loss: 0.3874 - acc: 0.8957 - val_loss: 0.2641 - val_acc: 0.9280\n",
      "Epoch 2/100\n",
      "128/128 [==============================] - 115s 897ms/step - loss: 0.2684 - acc: 0.9241\n",
      "482/482 [==============================] - 561s 1s/step - loss: 0.3390 - acc: 0.9043 - val_loss: 0.2684 - val_acc: 0.9241\n",
      "Epoch 3/100\n",
      "128/128 [==============================] - 114s 894ms/step - loss: 0.2726 - acc: 0.9268\n",
      "482/482 [==============================] - 560s 1s/step - loss: 0.3247 - acc: 0.9087 - val_loss: 0.2726 - val_acc: 0.9268\n",
      "Epoch 4/100\n",
      "128/128 [==============================] - 114s 894ms/step - loss: 0.2608 - acc: 0.9315\n",
      "482/482 [==============================] - 561s 1s/step - loss: 0.3165 - acc: 0.9102 - val_loss: 0.2608 - val_acc: 0.9315\n",
      "Epoch 5/100\n",
      "128/128 [==============================] - 115s 898ms/step - loss: 0.2735 - acc: 0.9303\n",
      "482/482 [==============================] - 561s 1s/step - loss: 0.3013 - acc: 0.9125 - val_loss: 0.2735 - val_acc: 0.9303\n",
      "Epoch 6/100\n",
      "128/128 [==============================] - 114s 894ms/step - loss: 0.2660 - acc: 0.9285\n",
      "482/482 [==============================] - 562s 1s/step - loss: 0.2929 - acc: 0.9166 - val_loss: 0.2660 - val_acc: 0.9285\n",
      "Epoch 7/100\n",
      "128/128 [==============================] - 114s 893ms/step - loss: 0.2828 - acc: 0.9261\n",
      "482/482 [==============================] - 560s 1s/step - loss: 0.2795 - acc: 0.9152 - val_loss: 0.2828 - val_acc: 0.9261\n",
      "Epoch 8/100\n",
      "128/128 [==============================] - 114s 894ms/step - loss: 0.2882 - acc: 0.9271\n",
      "482/482 [==============================] - 560s 1s/step - loss: 0.2852 - acc: 0.9168 - val_loss: 0.2882 - val_acc: 0.9271\n",
      "Epoch 9/100\n",
      "128/128 [==============================] - 114s 894ms/step - loss: 0.2898 - acc: 0.9290\n",
      "482/482 [==============================] - 561s 1s/step - loss: 0.2720 - acc: 0.9189 - val_loss: 0.2898 - val_acc: 0.9290\n",
      "Epoch 10/100\n",
      "128/128 [==============================] - 115s 895ms/step - loss: 0.2779 - acc: 0.9300\n",
      "482/482 [==============================] - 561s 1s/step - loss: 0.2503 - acc: 0.9260 - val_loss: 0.2779 - val_acc: 0.9300\n",
      "Epoch 11/100\n",
      "128/128 [==============================] - 114s 894ms/step - loss: 0.2803 - acc: 0.9278\n",
      "\n",
      "Epoch 00011: ReduceLROnPlateau reducing learning rate to 0.00010000000474974513.\n",
      "482/482 [==============================] - 564s 1s/step - loss: 0.2687 - acc: 0.9200 - val_loss: 0.2803 - val_acc: 0.9278\n",
      "Epoch 12/100\n",
      "128/128 [==============================] - 115s 898ms/step - loss: 0.2621 - acc: 0.9347\n",
      "482/482 [==============================] - 563s 1s/step - loss: 0.2081 - acc: 0.9337 - val_loss: 0.2621 - val_acc: 0.9347\n",
      "Epoch 13/100\n",
      "128/128 [==============================] - 115s 897ms/step - loss: 0.2651 - acc: 0.9315\n",
      "482/482 [==============================] - 563s 1s/step - loss: 0.1817 - acc: 0.9420 - val_loss: 0.2651 - val_acc: 0.9315\n",
      "Epoch 14/100\n",
      "128/128 [==============================] - 115s 897ms/step - loss: 0.2671 - acc: 0.9325\n",
      "482/482 [==============================] - 563s 1s/step - loss: 0.1635 - acc: 0.9440 - val_loss: 0.2671 - val_acc: 0.9325\n",
      "Epoch 15/100\n",
      "128/128 [==============================] - 115s 897ms/step - loss: 0.2672 - acc: 0.9325\n",
      "482/482 [==============================] - 565s 1s/step - loss: 0.1668 - acc: 0.9456 - val_loss: 0.2672 - val_acc: 0.9325\n",
      "Epoch 16/100\n",
      "128/128 [==============================] - 115s 897ms/step - loss: 0.2694 - acc: 0.9330\n",
      "482/482 [==============================] - 562s 1s/step - loss: 0.1618 - acc: 0.9458 - val_loss: 0.2694 - val_acc: 0.9330\n",
      "Epoch 17/100\n",
      "128/128 [==============================] - 115s 896ms/step - loss: 0.2691 - acc: 0.9354\n",
      "482/482 [==============================] - 562s 1s/step - loss: 0.1559 - acc: 0.9483 - val_loss: 0.2691 - val_acc: 0.9354\n",
      "Epoch 18/100\n",
      "128/128 [==============================] - 115s 897ms/step - loss: 0.2821 - acc: 0.9327\n",
      "482/482 [==============================] - 564s 1s/step - loss: 0.1542 - acc: 0.9488 - val_loss: 0.2821 - val_acc: 0.9327\n",
      "Epoch 19/100\n",
      "128/128 [==============================] - 115s 895ms/step - loss: 0.2700 - acc: 0.9320\n",
      "482/482 [==============================] - 563s 1s/step - loss: 0.1515 - acc: 0.9500 - val_loss: 0.2700 - val_acc: 0.9320\n",
      "Epoch 20/100\n",
      "128/128 [==============================] - 115s 897ms/step - loss: 0.2714 - acc: 0.9337\n",
      "482/482 [==============================] - 562s 1s/step - loss: 0.1485 - acc: 0.9494 - val_loss: 0.2714 - val_acc: 0.9337\n",
      "Epoch 21/100\n",
      "128/128 [==============================] - 115s 896ms/step - loss: 0.2711 - acc: 0.9342\n",
      "482/482 [==============================] - 562s 1s/step - loss: 0.1405 - acc: 0.9503 - val_loss: 0.2711 - val_acc: 0.9342\n",
      "Epoch 22/100\n",
      "128/128 [==============================] - 115s 896ms/step - loss: 0.2689 - acc: 0.9347\n",
      "482/482 [==============================] - 562s 1s/step - loss: 0.1400 - acc: 0.9533 - val_loss: 0.2689 - val_acc: 0.9347\n",
      "Epoch 23/100\n",
      "128/128 [==============================] - 115s 897ms/step - loss: 0.2740 - acc: 0.9347\n",
      "482/482 [==============================] - 562s 1s/step - loss: 0.1413 - acc: 0.9541 - val_loss: 0.2740 - val_acc: 0.9347\n",
      "Epoch 24/100\n",
      "128/128 [==============================] - 115s 898ms/step - loss: 0.2693 - acc: 0.9339\n",
      "\n",
      "Epoch 00024: ReduceLROnPlateau reducing learning rate to 1.0000000474974514e-05.\n",
      "482/482 [==============================] - 563s 1s/step - loss: 0.1309 - acc: 0.9539 - val_loss: 0.2693 - val_acc: 0.9339\n",
      "Epoch 25/100\n",
      "128/128 [==============================] - 115s 897ms/step - loss: 0.2799 - acc: 0.9342\n",
      "482/482 [==============================] - 564s 1s/step - loss: 0.1371 - acc: 0.9539 - val_loss: 0.2799 - val_acc: 0.9342\n",
      "Epoch 26/100\n",
      "128/128 [==============================] - 115s 897ms/step - loss: 0.2693 - acc: 0.9342\n",
      "482/482 [==============================] - 563s 1s/step - loss: 0.1286 - acc: 0.9560 - val_loss: 0.2693 - val_acc: 0.9342\n",
      "Epoch 27/100\n",
      "128/128 [==============================] - 115s 896ms/step - loss: 0.2700 - acc: 0.9339\n",
      "482/482 [==============================] - 563s 1s/step - loss: 0.1318 - acc: 0.9545 - val_loss: 0.2700 - val_acc: 0.9339\n",
      "Epoch 28/100\n",
      "128/128 [==============================] - 116s 908ms/step - loss: 0.2697 - acc: 0.9342\n",
      "482/482 [==============================] - 564s 1s/step - loss: 0.1289 - acc: 0.9541 - val_loss: 0.2697 - val_acc: 0.9342\n",
      "Epoch 29/100\n",
      "128/128 [==============================] - 115s 897ms/step - loss: 0.2694 - acc: 0.9339\n",
      "482/482 [==============================] - 567s 1s/step - loss: 0.1262 - acc: 0.9576 - val_loss: 0.2694 - val_acc: 0.9339\n",
      "Epoch 30/100\n",
      "128/128 [==============================] - 115s 896ms/step - loss: 0.2696 - acc: 0.9344\n",
      "482/482 [==============================] - 562s 1s/step - loss: 0.1207 - acc: 0.9580 - val_loss: 0.2696 - val_acc: 0.9344\n",
      "Epoch 31/100\n",
      "128/128 [==============================] - 115s 897ms/step - loss: 0.2715 - acc: 0.9347\n",
      "\n",
      "Epoch 00031: ReduceLROnPlateau reducing learning rate to 1.0000000656873453e-06.\n",
      "482/482 [==============================] - 562s 1s/step - loss: 0.1322 - acc: 0.9567 - val_loss: 0.2715 - val_acc: 0.9347\n",
      "Epoch 32/100\n",
      "128/128 [==============================] - 115s 896ms/step - loss: 0.2705 - acc: 0.9347\n",
      "482/482 [==============================] - 564s 1s/step - loss: 0.1302 - acc: 0.9565 - val_loss: 0.2705 - val_acc: 0.9347\n",
      "Epoch 33/100\n",
      "128/128 [==============================] - 115s 897ms/step - loss: 0.2693 - acc: 0.9347\n",
      "482/482 [==============================] - 565s 1s/step - loss: 0.1202 - acc: 0.9574 - val_loss: 0.2693 - val_acc: 0.9347\n",
      "Epoch 34/100\n",
      "128/128 [==============================] - 115s 898ms/step - loss: 0.2693 - acc: 0.9344\n",
      "482/482 [==============================] - 562s 1s/step - loss: 0.1223 - acc: 0.9564 - val_loss: 0.2693 - val_acc: 0.9344\n",
      "Epoch 35/100\n",
      "128/128 [==============================] - 116s 908ms/step - loss: 0.2693 - acc: 0.9344\n",
      "482/482 [==============================] - 564s 1s/step - loss: 0.1221 - acc: 0.9564 - val_loss: 0.2693 - val_acc: 0.9344\n",
      "Epoch 36/100\n",
      "128/128 [==============================] - 115s 897ms/step - loss: 0.2706 - acc: 0.9344\n",
      "482/482 [==============================] - 562s 1s/step - loss: 0.1248 - acc: 0.9568 - val_loss: 0.2706 - val_acc: 0.9344\n"
     ]
    },
    {
     "name": "stdout",
     "output_type": "stream",
     "text": [
      "Epoch 37/100\n",
      "128/128 [==============================] - 115s 896ms/step - loss: 0.2693 - acc: 0.9344\n",
      "Restoring model weights from the end of the best epoch.\n",
      "482/482 [==============================] - 566s 1s/step - loss: 0.1339 - acc: 0.9563 - val_loss: 0.2693 - val_acc: 0.9344\n",
      "Epoch 00037: early stopping\n"
     ]
    },
    {
     "data": {
      "text/plain": [
       "<tensorflow.python.keras.callbacks.History at 0x7f0ef043e128>"
      ]
     },
     "execution_count": 11,
     "metadata": {},
     "output_type": "execute_result"
    }
   ],
   "source": [
    "model.fit_generator(\n",
    "    train_generator,\n",
    "    steps_per_epoch = train_generator.samples // BATCH_SIZE,\n",
    "    validation_data = validation_generator, \n",
    "    validation_steps = validation_generator.samples // BATCH_SIZE,\n",
    "    epochs = EPOCHS, callbacks=[early_stopping, reduce_lr])"
   ]
  },
  {
   "cell_type": "markdown",
   "metadata": {},
   "source": [
    "## Evaluation"
   ]
  },
  {
   "cell_type": "code",
   "execution_count": 9,
   "metadata": {},
   "outputs": [
    {
     "name": "stderr",
     "output_type": "stream",
     "text": [
      "WARNING: Logging before flag parsing goes to stderr.\n",
      "W0629 16:17:17.050178 4568139200 deprecation.py:506] From /anaconda3/lib/python3.7/site-packages/tensorflow/python/ops/init_ops.py:97: calling VarianceScaling.__init__ (from tensorflow.python.ops.init_ops) with dtype is deprecated and will be removed in a future version.\n",
      "Instructions for updating:\n",
      "Call initializer instance with the dtype argument instead of passing it to the constructor\n",
      "W0629 16:17:17.051109 4568139200 deprecation.py:506] From /anaconda3/lib/python3.7/site-packages/tensorflow/python/ops/init_ops.py:97: calling Zeros.__init__ (from tensorflow.python.ops.init_ops) with dtype is deprecated and will be removed in a future version.\n",
      "Instructions for updating:\n",
      "Call initializer instance with the dtype argument instead of passing it to the constructor\n",
      "W0629 16:17:17.053171 4568139200 deprecation.py:506] From /anaconda3/lib/python3.7/site-packages/tensorflow/python/ops/init_ops.py:97: calling Ones.__init__ (from tensorflow.python.ops.init_ops) with dtype is deprecated and will be removed in a future version.\n",
      "Instructions for updating:\n",
      "Call initializer instance with the dtype argument instead of passing it to the constructor\n",
      "W0629 16:17:17.056718 4568139200 deprecation.py:506] From /anaconda3/lib/python3.7/site-packages/tensorflow/python/ops/init_ops.py:97: calling GlorotUniform.__init__ (from tensorflow.python.ops.init_ops) with dtype is deprecated and will be removed in a future version.\n",
      "Instructions for updating:\n",
      "Call initializer instance with the dtype argument instead of passing it to the constructor\n"
     ]
    }
   ],
   "source": [
    "model = load_model(\"../models/nasnetlarge-model-0.94acc-0.28loss-1561191444.hdf5\")"
   ]
  },
  {
   "cell_type": "code",
   "execution_count": 11,
   "metadata": {},
   "outputs": [
    {
     "name": "stdout",
     "output_type": "stream",
     "text": [
      "13/34 [==========>...................] - ETA: 4:56 - loss: 0.1976 - acc: 0.9447"
     ]
    },
    {
     "ename": "KeyboardInterrupt",
     "evalue": "",
     "output_type": "error",
     "traceback": [
      "\u001b[0;31m---------------------------------------------------------------------------\u001b[0m",
      "\u001b[0;31mKeyboardInterrupt\u001b[0m                         Traceback (most recent call last)",
      "\u001b[0;32m<ipython-input-11-b59975663749>\u001b[0m in \u001b[0;36m<module>\u001b[0;34m\u001b[0m\n\u001b[0;32m----> 1\u001b[0;31m \u001b[0mloss\u001b[0m\u001b[0;34m,\u001b[0m \u001b[0macc\u001b[0m \u001b[0;34m=\u001b[0m \u001b[0mmodel\u001b[0m\u001b[0;34m.\u001b[0m\u001b[0mevaluate_generator\u001b[0m\u001b[0;34m(\u001b[0m\u001b[0mtest_generator\u001b[0m\u001b[0;34m,\u001b[0m\u001b[0mverbose\u001b[0m\u001b[0;34m=\u001b[0m\u001b[0;36m1\u001b[0m\u001b[0;34m,\u001b[0m \u001b[0msteps\u001b[0m\u001b[0;34m=\u001b[0m\u001b[0mtest_generator\u001b[0m\u001b[0;34m.\u001b[0m\u001b[0msamples\u001b[0m \u001b[0;34m//\u001b[0m \u001b[0mBATCH_SIZE\u001b[0m\u001b[0;34m)\u001b[0m\u001b[0;34m\u001b[0m\u001b[0;34m\u001b[0m\u001b[0m\n\u001b[0m",
      "\u001b[0;32m/anaconda3/lib/python3.7/site-packages/tensorflow/python/keras/engine/training.py\u001b[0m in \u001b[0;36mevaluate_generator\u001b[0;34m(self, generator, steps, callbacks, max_queue_size, workers, use_multiprocessing, verbose)\u001b[0m\n\u001b[1;32m   1496\u001b[0m         \u001b[0muse_multiprocessing\u001b[0m\u001b[0;34m=\u001b[0m\u001b[0muse_multiprocessing\u001b[0m\u001b[0;34m,\u001b[0m\u001b[0;34m\u001b[0m\u001b[0;34m\u001b[0m\u001b[0m\n\u001b[1;32m   1497\u001b[0m         \u001b[0mverbose\u001b[0m\u001b[0;34m=\u001b[0m\u001b[0mverbose\u001b[0m\u001b[0;34m,\u001b[0m\u001b[0;34m\u001b[0m\u001b[0;34m\u001b[0m\u001b[0m\n\u001b[0;32m-> 1498\u001b[0;31m         callbacks=callbacks)\n\u001b[0m\u001b[1;32m   1499\u001b[0m \u001b[0;34m\u001b[0m\u001b[0m\n\u001b[1;32m   1500\u001b[0m   def predict_generator(self,\n",
      "\u001b[0;32m/anaconda3/lib/python3.7/site-packages/tensorflow/python/keras/engine/training_generator.py\u001b[0m in \u001b[0;36mmodel_iteration\u001b[0;34m(model, data, steps_per_epoch, epochs, verbose, callbacks, validation_data, validation_steps, validation_freq, class_weight, max_queue_size, workers, use_multiprocessing, shuffle, initial_epoch, mode, batch_size, steps_name, **kwargs)\u001b[0m\n\u001b[1;32m    262\u001b[0m \u001b[0;34m\u001b[0m\u001b[0m\n\u001b[1;32m    263\u001b[0m       \u001b[0mis_deferred\u001b[0m \u001b[0;34m=\u001b[0m \u001b[0;32mnot\u001b[0m \u001b[0mmodel\u001b[0m\u001b[0;34m.\u001b[0m\u001b[0m_is_compiled\u001b[0m\u001b[0;34m\u001b[0m\u001b[0;34m\u001b[0m\u001b[0m\n\u001b[0;32m--> 264\u001b[0;31m       \u001b[0mbatch_outs\u001b[0m \u001b[0;34m=\u001b[0m \u001b[0mbatch_function\u001b[0m\u001b[0;34m(\u001b[0m\u001b[0;34m*\u001b[0m\u001b[0mbatch_data\u001b[0m\u001b[0;34m)\u001b[0m\u001b[0;34m\u001b[0m\u001b[0;34m\u001b[0m\u001b[0m\n\u001b[0m\u001b[1;32m    265\u001b[0m       \u001b[0;32mif\u001b[0m \u001b[0;32mnot\u001b[0m \u001b[0misinstance\u001b[0m\u001b[0;34m(\u001b[0m\u001b[0mbatch_outs\u001b[0m\u001b[0;34m,\u001b[0m \u001b[0mlist\u001b[0m\u001b[0;34m)\u001b[0m\u001b[0;34m:\u001b[0m\u001b[0;34m\u001b[0m\u001b[0;34m\u001b[0m\u001b[0m\n\u001b[1;32m    266\u001b[0m         \u001b[0mbatch_outs\u001b[0m \u001b[0;34m=\u001b[0m \u001b[0;34m[\u001b[0m\u001b[0mbatch_outs\u001b[0m\u001b[0;34m]\u001b[0m\u001b[0;34m\u001b[0m\u001b[0;34m\u001b[0m\u001b[0m\n",
      "\u001b[0;32m/anaconda3/lib/python3.7/site-packages/tensorflow/python/keras/engine/training.py\u001b[0m in \u001b[0;36mtest_on_batch\u001b[0;34m(self, x, y, sample_weight, reset_metrics)\u001b[0m\n\u001b[1;32m   1245\u001b[0m       \u001b[0mself\u001b[0m\u001b[0;34m.\u001b[0m\u001b[0m_update_sample_weight_modes\u001b[0m\u001b[0;34m(\u001b[0m\u001b[0msample_weights\u001b[0m\u001b[0;34m=\u001b[0m\u001b[0msample_weights\u001b[0m\u001b[0;34m)\u001b[0m\u001b[0;34m\u001b[0m\u001b[0;34m\u001b[0m\u001b[0m\n\u001b[1;32m   1246\u001b[0m       \u001b[0mself\u001b[0m\u001b[0;34m.\u001b[0m\u001b[0m_make_test_function\u001b[0m\u001b[0;34m(\u001b[0m\u001b[0;34m)\u001b[0m\u001b[0;34m\u001b[0m\u001b[0;34m\u001b[0m\u001b[0m\n\u001b[0;32m-> 1247\u001b[0;31m       \u001b[0moutputs\u001b[0m \u001b[0;34m=\u001b[0m \u001b[0mself\u001b[0m\u001b[0;34m.\u001b[0m\u001b[0mtest_function\u001b[0m\u001b[0;34m(\u001b[0m\u001b[0minputs\u001b[0m\u001b[0;34m)\u001b[0m  \u001b[0;31m# pylint: disable=not-callable\u001b[0m\u001b[0;34m\u001b[0m\u001b[0;34m\u001b[0m\u001b[0m\n\u001b[0m\u001b[1;32m   1248\u001b[0m \u001b[0;34m\u001b[0m\u001b[0m\n\u001b[1;32m   1249\u001b[0m     \u001b[0;32mif\u001b[0m \u001b[0mreset_metrics\u001b[0m\u001b[0;34m:\u001b[0m\u001b[0;34m\u001b[0m\u001b[0;34m\u001b[0m\u001b[0m\n",
      "\u001b[0;32m/anaconda3/lib/python3.7/site-packages/tensorflow/python/keras/backend.py\u001b[0m in \u001b[0;36m__call__\u001b[0;34m(self, inputs)\u001b[0m\n\u001b[1;32m   3290\u001b[0m \u001b[0;34m\u001b[0m\u001b[0m\n\u001b[1;32m   3291\u001b[0m     fetched = self._callable_fn(*array_vals,\n\u001b[0;32m-> 3292\u001b[0;31m                                 run_metadata=self.run_metadata)\n\u001b[0m\u001b[1;32m   3293\u001b[0m     \u001b[0mself\u001b[0m\u001b[0;34m.\u001b[0m\u001b[0m_call_fetch_callbacks\u001b[0m\u001b[0;34m(\u001b[0m\u001b[0mfetched\u001b[0m\u001b[0;34m[\u001b[0m\u001b[0;34m-\u001b[0m\u001b[0mlen\u001b[0m\u001b[0;34m(\u001b[0m\u001b[0mself\u001b[0m\u001b[0;34m.\u001b[0m\u001b[0m_fetches\u001b[0m\u001b[0;34m)\u001b[0m\u001b[0;34m:\u001b[0m\u001b[0;34m]\u001b[0m\u001b[0;34m)\u001b[0m\u001b[0;34m\u001b[0m\u001b[0;34m\u001b[0m\u001b[0m\n\u001b[1;32m   3294\u001b[0m     output_structure = nest.pack_sequence_as(\n",
      "\u001b[0;32m/anaconda3/lib/python3.7/site-packages/tensorflow/python/client/session.py\u001b[0m in \u001b[0;36m__call__\u001b[0;34m(self, *args, **kwargs)\u001b[0m\n\u001b[1;32m   1456\u001b[0m         ret = tf_session.TF_SessionRunCallable(self._session._session,\n\u001b[1;32m   1457\u001b[0m                                                \u001b[0mself\u001b[0m\u001b[0;34m.\u001b[0m\u001b[0m_handle\u001b[0m\u001b[0;34m,\u001b[0m \u001b[0margs\u001b[0m\u001b[0;34m,\u001b[0m\u001b[0;34m\u001b[0m\u001b[0;34m\u001b[0m\u001b[0m\n\u001b[0;32m-> 1458\u001b[0;31m                                                run_metadata_ptr)\n\u001b[0m\u001b[1;32m   1459\u001b[0m         \u001b[0;32mif\u001b[0m \u001b[0mrun_metadata\u001b[0m\u001b[0;34m:\u001b[0m\u001b[0;34m\u001b[0m\u001b[0;34m\u001b[0m\u001b[0m\n\u001b[1;32m   1460\u001b[0m           \u001b[0mproto_data\u001b[0m \u001b[0;34m=\u001b[0m \u001b[0mtf_session\u001b[0m\u001b[0;34m.\u001b[0m\u001b[0mTF_GetBuffer\u001b[0m\u001b[0;34m(\u001b[0m\u001b[0mrun_metadata_ptr\u001b[0m\u001b[0;34m)\u001b[0m\u001b[0;34m\u001b[0m\u001b[0;34m\u001b[0m\u001b[0m\n",
      "\u001b[0;31mKeyboardInterrupt\u001b[0m: "
     ]
    }
   ],
   "source": [
    "loss, acc = model.evaluate_generator(test_generator,verbose=1, steps=test_generator.samples // BATCH_SIZE)"
   ]
  },
  {
   "cell_type": "code",
   "execution_count": null,
   "metadata": {},
   "outputs": [],
   "source": [
    "print(loss,acc)"
   ]
  },
  {
   "cell_type": "code",
   "execution_count": 14,
   "metadata": {},
   "outputs": [],
   "source": [
    "model.save(\"nasnetlarge-model-{:.2f}acc-{:.2f}loss-{:.0f}.hdf5\".format(acc, loss, time.time()))"
   ]
  },
  {
   "cell_type": "code",
   "execution_count": null,
   "metadata": {},
   "outputs": [],
   "source": []
  }
 ],
 "metadata": {
  "kernelspec": {
   "display_name": "Python 3",
   "language": "python",
   "name": "python3"
  },
  "language_info": {
   "codemirror_mode": {
    "name": "ipython",
    "version": 3
   },
   "file_extension": ".py",
   "mimetype": "text/x-python",
   "name": "python",
   "nbconvert_exporter": "python",
   "pygments_lexer": "ipython3",
   "version": "3.7.3"
  }
 },
 "nbformat": 4,
 "nbformat_minor": 1
}
